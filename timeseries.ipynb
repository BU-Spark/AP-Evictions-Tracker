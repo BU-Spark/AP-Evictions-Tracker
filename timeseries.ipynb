{
 "metadata": {
  "language_info": {
   "codemirror_mode": {
    "name": "ipython",
    "version": 3
   },
   "file_extension": ".py",
   "mimetype": "text/x-python",
   "name": "python",
   "nbconvert_exporter": "python",
   "pygments_lexer": "ipython3",
   "version": "3.8.6-final"
  },
  "orig_nbformat": 2,
  "kernelspec": {
   "name": "python3",
   "display_name": "Python 3.8.6 64-bit",
   "metadata": {
    "interpreter": {
     "hash": "aee8b7b246df8f9039afb4144a1f6fd8d2ca17a180786b69acc140d282b71a49"
    }
   }
  }
 },
 "nbformat": 4,
 "nbformat_minor": 2,
 "cells": [
  {
   "cell_type": "code",
   "execution_count": 987,
   "metadata": {},
   "outputs": [],
   "source": [
    "# import code block\n",
    "from selenium import webdriver\n",
    "from bs4 import BeautifulSoup\n",
    "import zipfile\n",
    "import pandas as pd\n",
    "# import requests\n",
    "import csv\n",
    "import time\n",
    "import random\n",
    "import matplotlib.pyplot as plt\n",
    "from urllib.request import urlopen\n",
    "import re\n",
    "# pip install xlsxwriter\n",
    "# pip install xlwx"
   ]
  },
  {
   "cell_type": "code",
   "execution_count": 988,
   "metadata": {},
   "outputs": [],
   "source": [
    "mergedData = pd.read_csv(\"merged_eviction_data.csv\")"
   ]
  },
  {
   "cell_type": "code",
   "execution_count": 989,
   "metadata": {},
   "outputs": [],
   "source": [
    "fundingSource = mergedData.drop(columns = ['Administering Agency','Max $ Assistance per household (total)',\n",
    "       'Household Assistance Details (# of months, max per month, etc)',\n",
    "       'Area Median Income Elgibility', 'Program Timeline', 'Contact info',\n",
    "       'Link to application', 'Notes', 'Unnamed: 11', 'Residents 2020-10-24',\n",
    "       'Count 2020-10-24', 'Residents 2020-10-31', 'Count 2020-10-31',\n",
    "       'Residents 2020-11-07', 'Count 2020-11-07', 'Residents 2020-11-14',\n",
    "       'Count 2020-11-14', 'Residents 2020-11-21', 'Count 2020-11-21',\n",
    "       'Residents 2020-11-28', 'Count 2020-11-28', 'Residents 2020-12-05',\n",
    "       'Count 2020-12-05', 'Residents 2020-12-12', 'Count 2020-12-12',\n",
    "       'Residents 2020-12-19', 'Count 2020-12-19', 'Residents 2020-12-26',\n",
    "       'Count 2020-12-26', 'Residents 2021-01-02', 'Count 2021-01-02',\n",
    "       'Residents 2021-01-09', 'Count 2021-01-09', 'Residents 2021-01-16',\n",
    "       'Count 2021-01-16', 'Residents 2021-01-23', 'Count 2021-01-23',\n",
    "       'Residents 2021-01-30', 'Count 2021-01-30', 'Residents 2021-02-06',\n",
    "       'Count 2021-02-06', 'Residents 2021-02-13', 'Count 2021-02-13',\n",
    "       'Residents 2021-02-20', 'Count 2021-02-20', 'Residents 2021-02-27',\n",
    "       'Count 2021-02-27'])"
   ]
  },
  {
   "cell_type": "code",
   "execution_count": 990,
   "metadata": {},
   "outputs": [],
   "source": [
    "# fundingSource = fundingSource.replace({'Funding Source' : {'Trust/CPA' : 'Trust, CPA', ', ' : ';','; ' : ';','and':''}})\n",
    "\n",
    "fundingSource['Funding Source'] = fundingSource['Funding Source'].str.replace(', and ', '/')\n",
    "fundingSource['Funding Source'] = fundingSource['Funding Source'].str.replace(', ', '/')\n",
    "# fundingSource['Funding Source'] = fundingSource['Funding Source'].str.replace(' / ', '/')\n",
    "# # fundingSource['Funding Source'] = fundingSource['Funding Source'].str.replace(' /', '/')\n",
    "\n",
    "fundingSource['Funding Source'] = fundingSource['Funding Source'].str.replace('Trust CPA', 'Trust/CPA')\n",
    "fundingSource['Funding Source'] = fundingSource['Funding Source'].str.replace('Trust and CPA', 'Trust/CPA')\n",
    "fundingSource['Funding Source'] = fundingSource['Funding Source'].str.replace('Trust, CPA', 'Trust/CPA')\n",
    "fundingSource['Funding Source'] = fundingSource['Funding Source'].str.replace('CPA/Trust', 'Trust/CPA')\n",
    "fundingSource['Funding Source'] = fundingSource['Funding Source'].str.replace('Trust and CDBG', 'Trust/CDBG')\n",
    "\n",
    "fundingSource['Funding Source'] = fundingSource['Funding Source'].str.replace('CARES Act funds', 'CARES Act')\n",
    "fundingSource['Funding Source'] = fundingSource['Funding Source'].str.replace('CARES Act ', 'CARES Act')"
   ]
  },
  {
   "cell_type": "code",
   "execution_count": 991,
   "metadata": {},
   "outputs": [],
   "source": [
    "fundingSource.to_csv('fundingsources.csv')"
   ]
  },
  {
   "cell_type": "code",
   "execution_count": 992,
   "metadata": {},
   "outputs": [],
   "source": [
    "# CARES act funding only\n",
    "cares = pd.DataFrame()\n",
    "cares = fundingSource[fundingSource['Funding Source'] == 'CARES Act']\n",
    "cares = cares.rename(columns={'Amount Allocated':'CARES'})\n",
    "cares = cares.drop(columns=['Funding Source'])"
   ]
  },
  {
   "cell_type": "code",
   "execution_count": 993,
   "metadata": {},
   "outputs": [],
   "source": [
    "trust = pd.DataFrame()\n",
    "trust = fundingSource[fundingSource['Funding Source'] == 'Trust']\n",
    "trust = trust.rename(columns={'Amount Allocated':'Trust'})\n",
    "trust = trust.drop(columns=['Funding Source'])"
   ]
  },
  {
   "cell_type": "code",
   "execution_count": 994,
   "metadata": {},
   "outputs": [],
   "source": [
    "notSpecified = pd.DataFrame()\n",
    "notSpecified = fundingSource[fundingSource['Funding Source'] == 'Not specified']\n",
    "notSpecified = notSpecified.rename(columns={'Amount Allocated':'Not Specified'})\n",
    "notSpecified = notSpecified.drop(columns=['Funding Source'])"
   ]
  },
  {
   "cell_type": "code",
   "execution_count": 995,
   "metadata": {},
   "outputs": [],
   "source": [
    "trustCPA = pd.DataFrame()\n",
    "trustCPA = fundingSource[fundingSource['Funding Source'] == 'Trust/CPA']\n",
    "trustCPA = trustCPA.rename(columns={'Amount Allocated':'Trust/CPA'})\n",
    "trustCPA = trustCPA.drop(columns=['Funding Source'])"
   ]
  },
  {
   "cell_type": "code",
   "execution_count": 996,
   "metadata": {},
   "outputs": [
    {
     "output_type": "execute_result",
     "data": {
      "text/plain": [
       "  Municipality                              Rental Relief Lottery  \\\n",
       "0       Boston  Round 1 of a rental relief lottery occurred on...   \n",
       "\n",
       "                  Federal Stimulus Funds  \n",
       "0  $5 million in federal stimulus funds.  "
      ],
      "text/html": "<div>\n<style scoped>\n    .dataframe tbody tr th:only-of-type {\n        vertical-align: middle;\n    }\n\n    .dataframe tbody tr th {\n        vertical-align: top;\n    }\n\n    .dataframe thead th {\n        text-align: right;\n    }\n</style>\n<table border=\"1\" class=\"dataframe\">\n  <thead>\n    <tr style=\"text-align: right;\">\n      <th></th>\n      <th>Municipality</th>\n      <th>Rental Relief Lottery</th>\n      <th>Federal Stimulus Funds</th>\n    </tr>\n  </thead>\n  <tbody>\n    <tr>\n      <th>0</th>\n      <td>Boston</td>\n      <td>Round 1 of a rental relief lottery occurred on...</td>\n      <td>$5 million in federal stimulus funds.</td>\n    </tr>\n  </tbody>\n</table>\n</div>"
     },
     "metadata": {},
     "execution_count": 996
    }
   ],
   "source": [
    "## fixing some of the municipalities that have multiple sources\n",
    "\n",
    "## ARLINGTON\n",
    "values = fundingSource.loc[fundingSource['Municipality'] == 'Arlington',['Municipality','Amount Allocated','Funding Source']].values.flatten().tolist()[1].split(', ')\n",
    "a = dict([('Municipality','Arlington'),('CPA',values[1]),('CDBG-CV',values[0]),('Donations',values[2]),('Housing Corporation',values[3])])\n",
    "arlington = pd.DataFrame.from_dict(a,orient='index').transpose()\n",
    "\n",
    "## BROOKLINE\n",
    "values = fundingSource.loc[fundingSource['Municipality'] == 'Brookline',['Municipality','Amount Allocated','Funding Source']].values.flatten().tolist()\n",
    "values\n",
    "b = dict([('Municipality','Brookline'),('CDBG-CV',values[2].split('and')[1]),('Town Sources', values[1]),('Housing Trust',values[2].split('and')[0]), ('Private Fundraising', values[2].split('and')[2])])\n",
    "brookline = pd.DataFrame.from_dict(b,orient='index').transpose()\n",
    "\n",
    "\n",
    "## BOSTON\n",
    "values = fundingSource.loc[fundingSource['Municipality'] == 'Boston',['Municipality','Amount Allocated','Funding Source']].values.flatten().tolist()\n",
    "bos = dict([('Municipality','Boston'),('Rental Relief Lottery', values[2].split(' - ')[0]),('Federal Stimulus Funds',values[2].split(' - ')[1])])\n",
    "boston = pd.DataFrame.from_dict(bos,orient='index').transpose()\n",
    "boston"
   ]
  },
  {
   "cell_type": "code",
   "execution_count": 997,
   "metadata": {},
   "outputs": [
    {
     "output_type": "execute_result",
     "data": {
      "text/plain": [
       "  Municipality                                            CPA  \\\n",
       "0    Arlington  $300,000 CPA (starting late summer/early fall   \n",
       "1    Brookline                                            NaN   \n",
       "2       Boston                                            NaN   \n",
       "\n",
       "                  CDBG-CV                                          Donations  \\\n",
       "0  $400,000 CDBG-CV funds  $115,000 in donations through Arlington Health...   \n",
       "1     $375,000 from CDBG                                                 NaN   \n",
       "2                     NaN                                                NaN   \n",
       "\n",
       "                                 Housing Corporation  \\\n",
       "0  and $100,000 through Housing Corporation of Ar...   \n",
       "1                                                NaN   \n",
       "2                                                NaN   \n",
       "\n",
       "                                        Town Sources  \\\n",
       "0                                                NaN   \n",
       "1  $1.2 million from Town Sources plus Private Fu...   \n",
       "2                                                NaN   \n",
       "\n",
       "                            Housing Trust                 Private Fundraising  \\\n",
       "0                                     NaN                                 NaN   \n",
       "1  $100,000 from Brookline Housing Trust    $725,000 from Private Fundraising   \n",
       "2                                     NaN                                 NaN   \n",
       "\n",
       "                               Rental Relief Lottery  \\\n",
       "0                                                NaN   \n",
       "1                                                NaN   \n",
       "2  Round 1 of a rental relief lottery occurred on...   \n",
       "\n",
       "                  Federal Stimulus Funds  \n",
       "0                                    NaN  \n",
       "1                                    NaN  \n",
       "2  $5 million in federal stimulus funds.  "
      ],
      "text/html": "<div>\n<style scoped>\n    .dataframe tbody tr th:only-of-type {\n        vertical-align: middle;\n    }\n\n    .dataframe tbody tr th {\n        vertical-align: top;\n    }\n\n    .dataframe thead th {\n        text-align: right;\n    }\n</style>\n<table border=\"1\" class=\"dataframe\">\n  <thead>\n    <tr style=\"text-align: right;\">\n      <th></th>\n      <th>Municipality</th>\n      <th>CPA</th>\n      <th>CDBG-CV</th>\n      <th>Donations</th>\n      <th>Housing Corporation</th>\n      <th>Town Sources</th>\n      <th>Housing Trust</th>\n      <th>Private Fundraising</th>\n      <th>Rental Relief Lottery</th>\n      <th>Federal Stimulus Funds</th>\n    </tr>\n  </thead>\n  <tbody>\n    <tr>\n      <th>0</th>\n      <td>Arlington</td>\n      <td>$300,000 CPA (starting late summer/early fall</td>\n      <td>$400,000 CDBG-CV funds</td>\n      <td>$115,000 in donations through Arlington Health...</td>\n      <td>and $100,000 through Housing Corporation of Ar...</td>\n      <td>NaN</td>\n      <td>NaN</td>\n      <td>NaN</td>\n      <td>NaN</td>\n      <td>NaN</td>\n    </tr>\n    <tr>\n      <th>1</th>\n      <td>Brookline</td>\n      <td>NaN</td>\n      <td>$375,000 from CDBG</td>\n      <td>NaN</td>\n      <td>NaN</td>\n      <td>$1.2 million from Town Sources plus Private Fu...</td>\n      <td>$100,000 from Brookline Housing Trust</td>\n      <td>$725,000 from Private Fundraising</td>\n      <td>NaN</td>\n      <td>NaN</td>\n    </tr>\n    <tr>\n      <th>2</th>\n      <td>Boston</td>\n      <td>NaN</td>\n      <td>NaN</td>\n      <td>NaN</td>\n      <td>NaN</td>\n      <td>NaN</td>\n      <td>NaN</td>\n      <td>NaN</td>\n      <td>Round 1 of a rental relief lottery occurred on...</td>\n      <td>$5 million in federal stimulus funds.</td>\n    </tr>\n  </tbody>\n</table>\n</div>"
     },
     "metadata": {},
     "execution_count": 997
    }
   ],
   "source": [
    "extras = pd.merge(arlington,brookline,how='outer')\n",
    "extras = pd.merge(extras,boston,how='outer')\n",
    "extras"
   ]
  },
  {
   "cell_type": "code",
   "execution_count": 998,
   "metadata": {},
   "outputs": [],
   "source": [
    "cpa = pd.DataFrame()\n",
    "cpa = fundingSource[fundingSource['Funding Source'] == 'CPA']\n",
    "cpa = cpa.rename(columns={'Amount Allocated':'CPA'})\n",
    "cpa = cpa.drop(columns=['Funding Source'])"
   ]
  },
  {
   "cell_type": "code",
   "execution_count": 999,
   "metadata": {},
   "outputs": [],
   "source": [
    "esgCv = pd.DataFrame()\n",
    "esgCv = fundingSource[fundingSource['Funding Source'] == 'ESG-CV']\n",
    "esgCv = esgCv.rename(columns={'Amount Allocated':'ESG-CV'})\n",
    "esgCv = esgCv.drop(columns=['Funding Source'])"
   ]
  },
  {
   "cell_type": "code",
   "execution_count": 1000,
   "metadata": {},
   "outputs": [],
   "source": [
    "home = pd.DataFrame()\n",
    "home = fundingSource[fundingSource['Funding Source']=='HOME']\n",
    "home = home.rename(columns={'Amount Allocated':'HOME'})\n",
    "home = home.drop(columns=['Funding Source'])"
   ]
  },
  {
   "cell_type": "code",
   "execution_count": 1001,
   "metadata": {},
   "outputs": [],
   "source": [
    "cdbgHome = pd.DataFrame()\n",
    "cdbgHome = fundingSource[fundingSource['Funding Source']=='CDBG/HOME-TBRA']\n",
    "cdbgHome = cdbgHome.rename(columns={'Amount Allocated':'CDBG/HOME-TBRA'})\n",
    "cdbgHome = cdbgHome.drop(columns=['Funding Source'])"
   ]
  },
  {
   "cell_type": "code",
   "execution_count": 1002,
   "metadata": {},
   "outputs": [],
   "source": [
    "city = pd.DataFrame()\n",
    "city = fundingSource[fundingSource['Funding Source']=='City funds allocated by Mayor']\n",
    "city = city.rename(columns={'Amount Allocated':'City Funds Allocated by Mayor'})\n",
    "city = city.drop(columns=['Funding Source'])"
   ]
  },
  {
   "cell_type": "code",
   "execution_count": 1005,
   "metadata": {},
   "outputs": [],
   "source": [
    "cambridge = pd.DataFrame()\n",
    "cambridge = fundingSource[fundingSource['Funding Source']==\"Donations were used for Mayor's Distaster Relief Funds/\"]\n",
    "cambridge = cambridge.rename(columns={'Amount Allocated':\"Donations were used for Mayor's Distaster Relief Funds\"})\n",
    "cambridge = cambridge.drop(columns=['Funding Source'])"
   ]
  },
  {
   "cell_type": "code",
   "execution_count": 1006,
   "metadata": {},
   "outputs": [],
   "source": [
    "trustCdbgCv = pd.DataFrame()\n",
    "trustCdbgCv = fundingSource[fundingSource['Funding Source']==\"Trust/CDBG-CV\"]\n",
    "trustCdbgCv = trustCdbgCv.rename(columns={'Amount Allocated':\"Trust/CDBG-CV\"})\n",
    "trustCdbgCv = trustCdbgCv.drop(columns=['Funding Source'])"
   ]
  },
  {
   "cell_type": "code",
   "execution_count": 1007,
   "metadata": {},
   "outputs": [
    {
     "output_type": "execute_result",
     "data": {
      "text/plain": [
       "                              Municipality     CARES      Trust  \\\n",
       "0                                    Acton  $55,000         NaN   \n",
       "1                                 Amesbury       NaN        NaN   \n",
       "2                                  Amherst       NaN  $250,000    \n",
       "3                                Arlington       NaN        NaN   \n",
       "4                        Barnstable County       NaN        NaN   \n",
       "..                                     ...       ...        ...   \n",
       "82                                Weymouth       NaN        NaN   \n",
       "83                            Williamstown       NaN        NaN   \n",
       "84                                Yarmouth       NaN        NaN   \n",
       "85  South Berkshire Consortium, see notes*       NaN        NaN   \n",
       "86          Cape & the Islands, see notes*       NaN        NaN   \n",
       "\n",
       "    Not Specified                   Trust/CPA  CPA ESG-CV       HOME  \\\n",
       "0             NaN                         NaN  NaN    NaN        NaN   \n",
       "1   Not specified                         NaN  NaN    NaN        NaN   \n",
       "2             NaN                         NaN  NaN    NaN        NaN   \n",
       "3             NaN                         NaN  NaN    NaN        NaN   \n",
       "4             NaN                         NaN  NaN    NaN  $100,000    \n",
       "..            ...                         ...  ...    ...        ...   \n",
       "82            NaN                         NaN  NaN    NaN        NaN   \n",
       "83            NaN  $20,700 Trust, $75,000 CPA  NaN    NaN        NaN   \n",
       "84            NaN                   $108,000   NaN    NaN        NaN   \n",
       "85            NaN                         NaN  NaN    NaN        NaN   \n",
       "86            NaN                         NaN  NaN    NaN        NaN   \n",
       "\n",
       "   CDBG/HOME-TBRA City Funds Allocated by Mayor  \\\n",
       "0             NaN                           NaN   \n",
       "1             NaN                           NaN   \n",
       "2             NaN                           NaN   \n",
       "3             NaN                           NaN   \n",
       "4             NaN                           NaN   \n",
       "..            ...                           ...   \n",
       "82            NaN                           NaN   \n",
       "83            NaN                           NaN   \n",
       "84            NaN                           NaN   \n",
       "85            NaN                           NaN   \n",
       "86            NaN                           NaN   \n",
       "\n",
       "   Donations were used for Mayor's Distaster Relief Funds Trust/CDBG-CV  \n",
       "0                                                 NaN               NaN  \n",
       "1                                                 NaN               NaN  \n",
       "2                                                 NaN               NaN  \n",
       "3                                                 NaN               NaN  \n",
       "4                                                 NaN               NaN  \n",
       "..                                                ...               ...  \n",
       "82                                                NaN               NaN  \n",
       "83                                                NaN               NaN  \n",
       "84                                                NaN               NaN  \n",
       "85                                                NaN               NaN  \n",
       "86                                                NaN               NaN  \n",
       "\n",
       "[87 rows x 12 columns]"
      ],
      "text/html": "<div>\n<style scoped>\n    .dataframe tbody tr th:only-of-type {\n        vertical-align: middle;\n    }\n\n    .dataframe tbody tr th {\n        vertical-align: top;\n    }\n\n    .dataframe thead th {\n        text-align: right;\n    }\n</style>\n<table border=\"1\" class=\"dataframe\">\n  <thead>\n    <tr style=\"text-align: right;\">\n      <th></th>\n      <th>Municipality</th>\n      <th>CARES</th>\n      <th>Trust</th>\n      <th>Not Specified</th>\n      <th>Trust/CPA</th>\n      <th>CPA</th>\n      <th>ESG-CV</th>\n      <th>HOME</th>\n      <th>CDBG/HOME-TBRA</th>\n      <th>City Funds Allocated by Mayor</th>\n      <th>Donations were used for Mayor's Distaster Relief Funds</th>\n      <th>Trust/CDBG-CV</th>\n    </tr>\n  </thead>\n  <tbody>\n    <tr>\n      <th>0</th>\n      <td>Acton</td>\n      <td>$55,000</td>\n      <td>NaN</td>\n      <td>NaN</td>\n      <td>NaN</td>\n      <td>NaN</td>\n      <td>NaN</td>\n      <td>NaN</td>\n      <td>NaN</td>\n      <td>NaN</td>\n      <td>NaN</td>\n      <td>NaN</td>\n    </tr>\n    <tr>\n      <th>1</th>\n      <td>Amesbury</td>\n      <td>NaN</td>\n      <td>NaN</td>\n      <td>Not specified</td>\n      <td>NaN</td>\n      <td>NaN</td>\n      <td>NaN</td>\n      <td>NaN</td>\n      <td>NaN</td>\n      <td>NaN</td>\n      <td>NaN</td>\n      <td>NaN</td>\n    </tr>\n    <tr>\n      <th>2</th>\n      <td>Amherst</td>\n      <td>NaN</td>\n      <td>$250,000</td>\n      <td>NaN</td>\n      <td>NaN</td>\n      <td>NaN</td>\n      <td>NaN</td>\n      <td>NaN</td>\n      <td>NaN</td>\n      <td>NaN</td>\n      <td>NaN</td>\n      <td>NaN</td>\n    </tr>\n    <tr>\n      <th>3</th>\n      <td>Arlington</td>\n      <td>NaN</td>\n      <td>NaN</td>\n      <td>NaN</td>\n      <td>NaN</td>\n      <td>NaN</td>\n      <td>NaN</td>\n      <td>NaN</td>\n      <td>NaN</td>\n      <td>NaN</td>\n      <td>NaN</td>\n      <td>NaN</td>\n    </tr>\n    <tr>\n      <th>4</th>\n      <td>Barnstable County</td>\n      <td>NaN</td>\n      <td>NaN</td>\n      <td>NaN</td>\n      <td>NaN</td>\n      <td>NaN</td>\n      <td>NaN</td>\n      <td>$100,000</td>\n      <td>NaN</td>\n      <td>NaN</td>\n      <td>NaN</td>\n      <td>NaN</td>\n    </tr>\n    <tr>\n      <th>...</th>\n      <td>...</td>\n      <td>...</td>\n      <td>...</td>\n      <td>...</td>\n      <td>...</td>\n      <td>...</td>\n      <td>...</td>\n      <td>...</td>\n      <td>...</td>\n      <td>...</td>\n      <td>...</td>\n      <td>...</td>\n    </tr>\n    <tr>\n      <th>82</th>\n      <td>Weymouth</td>\n      <td>NaN</td>\n      <td>NaN</td>\n      <td>NaN</td>\n      <td>NaN</td>\n      <td>NaN</td>\n      <td>NaN</td>\n      <td>NaN</td>\n      <td>NaN</td>\n      <td>NaN</td>\n      <td>NaN</td>\n      <td>NaN</td>\n    </tr>\n    <tr>\n      <th>83</th>\n      <td>Williamstown</td>\n      <td>NaN</td>\n      <td>NaN</td>\n      <td>NaN</td>\n      <td>$20,700 Trust, $75,000 CPA</td>\n      <td>NaN</td>\n      <td>NaN</td>\n      <td>NaN</td>\n      <td>NaN</td>\n      <td>NaN</td>\n      <td>NaN</td>\n      <td>NaN</td>\n    </tr>\n    <tr>\n      <th>84</th>\n      <td>Yarmouth</td>\n      <td>NaN</td>\n      <td>NaN</td>\n      <td>NaN</td>\n      <td>$108,000</td>\n      <td>NaN</td>\n      <td>NaN</td>\n      <td>NaN</td>\n      <td>NaN</td>\n      <td>NaN</td>\n      <td>NaN</td>\n      <td>NaN</td>\n    </tr>\n    <tr>\n      <th>85</th>\n      <td>South Berkshire Consortium, see notes*</td>\n      <td>NaN</td>\n      <td>NaN</td>\n      <td>NaN</td>\n      <td>NaN</td>\n      <td>NaN</td>\n      <td>NaN</td>\n      <td>NaN</td>\n      <td>NaN</td>\n      <td>NaN</td>\n      <td>NaN</td>\n      <td>NaN</td>\n    </tr>\n    <tr>\n      <th>86</th>\n      <td>Cape &amp; the Islands, see notes*</td>\n      <td>NaN</td>\n      <td>NaN</td>\n      <td>NaN</td>\n      <td>NaN</td>\n      <td>NaN</td>\n      <td>NaN</td>\n      <td>NaN</td>\n      <td>NaN</td>\n      <td>NaN</td>\n      <td>NaN</td>\n      <td>NaN</td>\n    </tr>\n  </tbody>\n</table>\n<p>87 rows × 12 columns</p>\n</div>"
     },
     "metadata": {},
     "execution_count": 1007
    }
   ],
   "source": [
    "sourcesTrack = pd.DataFrame(columns=['Municipality'])\n",
    "sourcesTrack['Municipality'] = fundingSource['Municipality']\n",
    "sourcesTrack = pd.merge(sourcesTrack, cares, how='left',on='Municipality')\n",
    "sourcesTrack = pd.merge(sourcesTrack, trust, how='left',on='Municipality')\n",
    "sourcesTrack = pd.merge(sourcesTrack, notSpecified, how='left',on='Municipality')\n",
    "sourcesTrack = pd.merge(sourcesTrack, trustCPA, how='left',on='Municipality')\n",
    "sourcesTrack = pd.merge(sourcesTrack, cpa, how='left',on='Municipality')\n",
    "sourcesTrack = pd.merge(sourcesTrack, esgCv, how='left',on='Municipality')\n",
    "sourcesTrack = pd.merge(sourcesTrack, home, how='left',on='Municipality')\n",
    "sourcesTrack = pd.merge(sourcesTrack, cdbgHome, how='left',on='Municipality')\n",
    "sourcesTrack = pd.merge(sourcesTrack, city, how='left',on='Municipality')\n",
    "sourcesTrack = pd.merge(sourcesTrack, cambridge, how='left',on='Municipality')\n",
    "sourcesTrack = pd.merge(sourcesTrack, trustCdbgCv, how='left',on='Municipality')\n",
    "\n",
    "\n",
    "sourcesTrack.to_csv('sourceTracker.csv')\n",
    "sourcesTrack"
   ]
  },
  {
   "cell_type": "code",
   "execution_count": 1008,
   "metadata": {},
   "outputs": [
    {
     "output_type": "execute_result",
     "data": {
      "text/plain": [
       "   Municipality CARES Trust Not Specified Trust/CPA  CPA ESG-CV HOME  \\\n",
       "10     Brockton   NaN   NaN           NaN       NaN  NaN    NaN  NaN   \n",
       "\n",
       "                       CDBG/HOME-TBRA City Funds Allocated by Mayor  \\\n",
       "10  $250,000 CDBG, $250,000 HOME-TBRA                           NaN   \n",
       "\n",
       "   Donations were used for Mayor's Distaster Relief Funds Trust/CDBG-CV  \n",
       "10                                                NaN               NaN  "
      ],
      "text/html": "<div>\n<style scoped>\n    .dataframe tbody tr th:only-of-type {\n        vertical-align: middle;\n    }\n\n    .dataframe tbody tr th {\n        vertical-align: top;\n    }\n\n    .dataframe thead th {\n        text-align: right;\n    }\n</style>\n<table border=\"1\" class=\"dataframe\">\n  <thead>\n    <tr style=\"text-align: right;\">\n      <th></th>\n      <th>Municipality</th>\n      <th>CARES</th>\n      <th>Trust</th>\n      <th>Not Specified</th>\n      <th>Trust/CPA</th>\n      <th>CPA</th>\n      <th>ESG-CV</th>\n      <th>HOME</th>\n      <th>CDBG/HOME-TBRA</th>\n      <th>City Funds Allocated by Mayor</th>\n      <th>Donations were used for Mayor's Distaster Relief Funds</th>\n      <th>Trust/CDBG-CV</th>\n    </tr>\n  </thead>\n  <tbody>\n    <tr>\n      <th>10</th>\n      <td>Brockton</td>\n      <td>NaN</td>\n      <td>NaN</td>\n      <td>NaN</td>\n      <td>NaN</td>\n      <td>NaN</td>\n      <td>NaN</td>\n      <td>NaN</td>\n      <td>$250,000 CDBG, $250,000 HOME-TBRA</td>\n      <td>NaN</td>\n      <td>NaN</td>\n      <td>NaN</td>\n    </tr>\n  </tbody>\n</table>\n</div>"
     },
     "metadata": {},
     "execution_count": 1008
    }
   ],
   "source": [
    "sourcesTrack[sourcesTrack['Municipality'] == 'Brockton']['HOME','CDGB-CV']= sourcesTrack"
   ]
  },
  {
   "cell_type": "code",
   "execution_count": null,
   "metadata": {},
   "outputs": [],
   "source": []
  }
 ]
}