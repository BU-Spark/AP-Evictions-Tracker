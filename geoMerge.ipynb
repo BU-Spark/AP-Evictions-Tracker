{
 "metadata": {
  "language_info": {
   "codemirror_mode": {
    "name": "ipython",
    "version": 3
   },
   "file_extension": ".py",
   "mimetype": "text/x-python",
   "name": "python",
   "nbconvert_exporter": "python",
   "pygments_lexer": "ipython3",
   "version": "3.8.6-final"
  },
  "orig_nbformat": 2,
  "kernelspec": {
   "name": "python386jvsc74a57bd0aee8b7b246df8f9039afb4144a1f6fd8d2ca17a180786b69acc140d282b71a49",
   "display_name": "Python 3.8.6 64-bit"
  },
  "metadata": {
   "interpreter": {
    "hash": "aee8b7b246df8f9039afb4144a1f6fd8d2ca17a180786b69acc140d282b71a49"
   }
  }
 },
 "nbformat": 4,
 "nbformat_minor": 2,
 "cells": [
  {
   "cell_type": "code",
   "execution_count": 132,
   "metadata": {},
   "outputs": [],
   "source": [
    "# import code block\n",
    "from selenium import webdriver\n",
    "from bs4 import BeautifulSoup\n",
    "import zipfile\n",
    "import pandas as pd\n",
    "import csv\n",
    "import time\n",
    "import random\n",
    "import matplotlib.pyplot as plt\n",
    "from urllib.request import urlopen\n",
    "import re\n",
    "import string\n",
    "import numpy as np"
   ]
  },
  {
   "cell_type": "code",
   "execution_count": 133,
   "metadata": {},
   "outputs": [],
   "source": [
    "census = pd.read_csv('MA_CensusTract_Zipcode_merge.csv')"
   ]
  },
  {
   "cell_type": "code",
   "execution_count": 134,
   "metadata": {},
   "outputs": [],
   "source": [
    "tracts = census['POSTCODE'].unique().tolist()\n",
    "tractsZips = dict.fromkeys(tracts)"
   ]
  },
  {
   "cell_type": "code",
   "execution_count": 135,
   "metadata": {
    "tags": []
   },
   "outputs": [],
   "source": [
    "groups = census.groupby('POSTCODE')\n",
    "for POSTCODE, frame in groups:\n",
    "    tractsZips[POSTCODE] = frame['NAME10'].values.tolist()"
   ]
  },
  {
   "cell_type": "code",
   "execution_count": 136,
   "metadata": {},
   "outputs": [],
   "source": [
    "erma = pd.read_csv('ERMA Payments 7.1.20-3.22.21.csv')\n",
    "erma['PAY_TYPE'] = 'ERMA'\n",
    "erma['CETRACT'] = ''\n",
    "\n",
    "raft = pd.read_csv('RAFT Payments 1.1.19-3.22.21.xlsx - Sheet1.csv')\n",
    "raft['PAY_TYPE'] = 'RAFT'\n",
    "raft['CETRACT'] = ''"
   ]
  },
  {
   "cell_type": "code",
   "execution_count": 137,
   "metadata": {
    "tags": []
   },
   "outputs": [],
   "source": [
    "for i,row in erma.iterrows():\n",
    "    val = erma.at[i, 'Unit ZIP']\n",
    "    if (erma.at[i,'Unit ZIP'] in tractsZips):\n",
    "        erma.at[i,'CETRACT'] = tractsZips[val]\n",
    "    else:\n",
    "        erma.at[i,'CETRACT'] = np.nan"
   ]
  },
  {
   "cell_type": "code",
   "execution_count": 138,
   "metadata": {},
   "outputs": [],
   "source": [
    "for i,row in raft.iterrows():\n",
    "    val = raft.at[i, 'Unit ZIP']\n",
    "    if (raft.at[i,'Unit ZIP'] in tractsZips):\n",
    "        raft.at[i,'CETRACT'] = tractsZips[val]\n",
    "    else:\n",
    "        raft.at[i,'CETRACT'] = np.nan"
   ]
  },
  {
   "cell_type": "code",
   "execution_count": 139,
   "metadata": {},
   "outputs": [
    {
     "output_type": "execute_result",
     "data": {
      "text/plain": [
       "       Tenant ID Check Date Actual Individual Payment  Unit ZIP PAY_TYPE  \\\n",
       "0         T82460  7/24/2020                $2,857.37     1520.0     ERMA   \n",
       "1         T82460  7/24/2020               ($2,857.37)    1520.0     ERMA   \n",
       "2     1500022515  7/29/2020                $3,250.00     1850.0     ERMA   \n",
       "3     1500022515  7/29/2020               ($3,250.00)    1850.0     ERMA   \n",
       "4     1500022515  7/30/2020               ($3,250.00)    1850.0     ERMA   \n",
       "...          ...        ...                       ...       ...      ...   \n",
       "1372      T98506  3/19/2021                $8,577.00     2124.0     ERMA   \n",
       "1373      T97039  3/19/2021                $1,450.00     2215.0     ERMA   \n",
       "1374      T97039  3/19/2021                $1,450.00     2215.0     ERMA   \n",
       "1375      T98340  3/19/2021                $4,500.00     2119.0     ERMA   \n",
       "1376      T98514  3/19/2021                $7,078.24     2121.0     ERMA   \n",
       "\n",
       "                                                CETRACT  \n",
       "0     [7284.0, 7301.0, 7283.0, 7291.0, 7307.0, 7281....  \n",
       "1     [7284.0, 7301.0, 7283.0, 7291.0, 7307.0, 7281....  \n",
       "2                     [3102.0, 3103.0, 3104.0, 3143.01]  \n",
       "3                     [3102.0, 3103.0, 3104.0, 3143.01]  \n",
       "4                     [3102.0, 3103.0, 3104.0, 3143.01]  \n",
       "...                                                 ...  \n",
       "1372  [9803.0, 1008.0, 1006.01, 1005.0, 1004.0, 1003...  \n",
       "1373  [4008.0, 4003.0, 4002.0, 4001.0, 104.05, 102.0...  \n",
       "1374  [4008.0, 4003.0, 4002.0, 4001.0, 104.05, 102.0...  \n",
       "1375  [9803.0, 1205.0, 812.0, 806.01, 805.0, 804.01,...  \n",
       "1376  [9803.0, 924.0, 923.0, 920.0, 919.0, 918.0, 91...  \n",
       "\n",
       "[1377 rows x 6 columns]"
      ],
      "text/html": "<div>\n<style scoped>\n    .dataframe tbody tr th:only-of-type {\n        vertical-align: middle;\n    }\n\n    .dataframe tbody tr th {\n        vertical-align: top;\n    }\n\n    .dataframe thead th {\n        text-align: right;\n    }\n</style>\n<table border=\"1\" class=\"dataframe\">\n  <thead>\n    <tr style=\"text-align: right;\">\n      <th></th>\n      <th>Tenant ID</th>\n      <th>Check Date</th>\n      <th>Actual Individual Payment</th>\n      <th>Unit ZIP</th>\n      <th>PAY_TYPE</th>\n      <th>CETRACT</th>\n    </tr>\n  </thead>\n  <tbody>\n    <tr>\n      <th>0</th>\n      <td>T82460</td>\n      <td>7/24/2020</td>\n      <td>$2,857.37</td>\n      <td>1520.0</td>\n      <td>ERMA</td>\n      <td>[7284.0, 7301.0, 7283.0, 7291.0, 7307.0, 7281....</td>\n    </tr>\n    <tr>\n      <th>1</th>\n      <td>T82460</td>\n      <td>7/24/2020</td>\n      <td>($2,857.37)</td>\n      <td>1520.0</td>\n      <td>ERMA</td>\n      <td>[7284.0, 7301.0, 7283.0, 7291.0, 7307.0, 7281....</td>\n    </tr>\n    <tr>\n      <th>2</th>\n      <td>1500022515</td>\n      <td>7/29/2020</td>\n      <td>$3,250.00</td>\n      <td>1850.0</td>\n      <td>ERMA</td>\n      <td>[3102.0, 3103.0, 3104.0, 3143.01]</td>\n    </tr>\n    <tr>\n      <th>3</th>\n      <td>1500022515</td>\n      <td>7/29/2020</td>\n      <td>($3,250.00)</td>\n      <td>1850.0</td>\n      <td>ERMA</td>\n      <td>[3102.0, 3103.0, 3104.0, 3143.01]</td>\n    </tr>\n    <tr>\n      <th>4</th>\n      <td>1500022515</td>\n      <td>7/30/2020</td>\n      <td>($3,250.00)</td>\n      <td>1850.0</td>\n      <td>ERMA</td>\n      <td>[3102.0, 3103.0, 3104.0, 3143.01]</td>\n    </tr>\n    <tr>\n      <th>...</th>\n      <td>...</td>\n      <td>...</td>\n      <td>...</td>\n      <td>...</td>\n      <td>...</td>\n      <td>...</td>\n    </tr>\n    <tr>\n      <th>1372</th>\n      <td>T98506</td>\n      <td>3/19/2021</td>\n      <td>$8,577.00</td>\n      <td>2124.0</td>\n      <td>ERMA</td>\n      <td>[9803.0, 1008.0, 1006.01, 1005.0, 1004.0, 1003...</td>\n    </tr>\n    <tr>\n      <th>1373</th>\n      <td>T97039</td>\n      <td>3/19/2021</td>\n      <td>$1,450.00</td>\n      <td>2215.0</td>\n      <td>ERMA</td>\n      <td>[4008.0, 4003.0, 4002.0, 4001.0, 104.05, 102.0...</td>\n    </tr>\n    <tr>\n      <th>1374</th>\n      <td>T97039</td>\n      <td>3/19/2021</td>\n      <td>$1,450.00</td>\n      <td>2215.0</td>\n      <td>ERMA</td>\n      <td>[4008.0, 4003.0, 4002.0, 4001.0, 104.05, 102.0...</td>\n    </tr>\n    <tr>\n      <th>1375</th>\n      <td>T98340</td>\n      <td>3/19/2021</td>\n      <td>$4,500.00</td>\n      <td>2119.0</td>\n      <td>ERMA</td>\n      <td>[9803.0, 1205.0, 812.0, 806.01, 805.0, 804.01,...</td>\n    </tr>\n    <tr>\n      <th>1376</th>\n      <td>T98514</td>\n      <td>3/19/2021</td>\n      <td>$7,078.24</td>\n      <td>2121.0</td>\n      <td>ERMA</td>\n      <td>[9803.0, 924.0, 923.0, 920.0, 919.0, 918.0, 91...</td>\n    </tr>\n  </tbody>\n</table>\n<p>1377 rows × 6 columns</p>\n</div>"
     },
     "metadata": {},
     "execution_count": 139
    }
   ],
   "source": [
    "erma"
   ]
  },
  {
   "cell_type": "code",
   "execution_count": 140,
   "metadata": {},
   "outputs": [
    {
     "output_type": "execute_result",
     "data": {
      "text/plain": [
       "        Tenant ID  Check Date Actual Individual Payment  Unit ZIP PAY_TYPE  \\\n",
       "0          T82460   7/24/2020                $2,857.37     1520.0     ERMA   \n",
       "1          T82460   7/24/2020               ($2,857.37)    1520.0     ERMA   \n",
       "2      1500022515   7/29/2020                $3,250.00     1850.0     ERMA   \n",
       "3      1500022515   7/29/2020               ($3,250.00)    1850.0     ERMA   \n",
       "4      1500022515   7/30/2020               ($3,250.00)    1850.0     ERMA   \n",
       "...           ...         ...                       ...       ...      ...   \n",
       "49741  1500023174  03/01/2021                      -425    2639.0     RAFT   \n",
       "49742       T8467  03/15/2021                     -9100    1841.0     RAFT   \n",
       "49743      T97072  03/15/2021                     -1350    1841.0     RAFT   \n",
       "49744      T97072  03/15/2021                     -1350    1841.0     RAFT   \n",
       "49745      T97072  03/15/2021                      -500    1841.0     RAFT   \n",
       "\n",
       "                                                 CETRACT  Key Tenant Key  \n",
       "0      [7284.0, 7301.0, 7283.0, 7291.0, 7307.0, 7281....             NaN  \n",
       "1      [7284.0, 7301.0, 7283.0, 7291.0, 7307.0, 7281....             NaN  \n",
       "2                      [3102.0, 3103.0, 3104.0, 3143.01]             NaN  \n",
       "3                      [3102.0, 3103.0, 3104.0, 3143.01]             NaN  \n",
       "4                      [3102.0, 3103.0, 3104.0, 3143.01]             NaN  \n",
       "...                                                  ...             ...  \n",
       "49741                      [110.02, 117.0, 116.0, 115.0]         59486.0  \n",
       "49742  [2524.0, 2523.0, 2521.01, 2526.01, 2525.01, 25...          8467.0  \n",
       "49743  [2524.0, 2523.0, 2521.01, 2526.01, 2525.01, 25...         97072.0  \n",
       "49744  [2524.0, 2523.0, 2521.01, 2526.01, 2525.01, 25...         97072.0  \n",
       "49745  [2524.0, 2523.0, 2521.01, 2526.01, 2525.01, 25...         97072.0  \n",
       "\n",
       "[51123 rows x 7 columns]"
      ],
      "text/html": "<div>\n<style scoped>\n    .dataframe tbody tr th:only-of-type {\n        vertical-align: middle;\n    }\n\n    .dataframe tbody tr th {\n        vertical-align: top;\n    }\n\n    .dataframe thead th {\n        text-align: right;\n    }\n</style>\n<table border=\"1\" class=\"dataframe\">\n  <thead>\n    <tr style=\"text-align: right;\">\n      <th></th>\n      <th>Tenant ID</th>\n      <th>Check Date</th>\n      <th>Actual Individual Payment</th>\n      <th>Unit ZIP</th>\n      <th>PAY_TYPE</th>\n      <th>CETRACT</th>\n      <th>Key Tenant Key</th>\n    </tr>\n  </thead>\n  <tbody>\n    <tr>\n      <th>0</th>\n      <td>T82460</td>\n      <td>7/24/2020</td>\n      <td>$2,857.37</td>\n      <td>1520.0</td>\n      <td>ERMA</td>\n      <td>[7284.0, 7301.0, 7283.0, 7291.0, 7307.0, 7281....</td>\n      <td>NaN</td>\n    </tr>\n    <tr>\n      <th>1</th>\n      <td>T82460</td>\n      <td>7/24/2020</td>\n      <td>($2,857.37)</td>\n      <td>1520.0</td>\n      <td>ERMA</td>\n      <td>[7284.0, 7301.0, 7283.0, 7291.0, 7307.0, 7281....</td>\n      <td>NaN</td>\n    </tr>\n    <tr>\n      <th>2</th>\n      <td>1500022515</td>\n      <td>7/29/2020</td>\n      <td>$3,250.00</td>\n      <td>1850.0</td>\n      <td>ERMA</td>\n      <td>[3102.0, 3103.0, 3104.0, 3143.01]</td>\n      <td>NaN</td>\n    </tr>\n    <tr>\n      <th>3</th>\n      <td>1500022515</td>\n      <td>7/29/2020</td>\n      <td>($3,250.00)</td>\n      <td>1850.0</td>\n      <td>ERMA</td>\n      <td>[3102.0, 3103.0, 3104.0, 3143.01]</td>\n      <td>NaN</td>\n    </tr>\n    <tr>\n      <th>4</th>\n      <td>1500022515</td>\n      <td>7/30/2020</td>\n      <td>($3,250.00)</td>\n      <td>1850.0</td>\n      <td>ERMA</td>\n      <td>[3102.0, 3103.0, 3104.0, 3143.01]</td>\n      <td>NaN</td>\n    </tr>\n    <tr>\n      <th>...</th>\n      <td>...</td>\n      <td>...</td>\n      <td>...</td>\n      <td>...</td>\n      <td>...</td>\n      <td>...</td>\n      <td>...</td>\n    </tr>\n    <tr>\n      <th>49741</th>\n      <td>1500023174</td>\n      <td>03/01/2021</td>\n      <td>-425</td>\n      <td>2639.0</td>\n      <td>RAFT</td>\n      <td>[110.02, 117.0, 116.0, 115.0]</td>\n      <td>59486.0</td>\n    </tr>\n    <tr>\n      <th>49742</th>\n      <td>T8467</td>\n      <td>03/15/2021</td>\n      <td>-9100</td>\n      <td>1841.0</td>\n      <td>RAFT</td>\n      <td>[2524.0, 2523.0, 2521.01, 2526.01, 2525.01, 25...</td>\n      <td>8467.0</td>\n    </tr>\n    <tr>\n      <th>49743</th>\n      <td>T97072</td>\n      <td>03/15/2021</td>\n      <td>-1350</td>\n      <td>1841.0</td>\n      <td>RAFT</td>\n      <td>[2524.0, 2523.0, 2521.01, 2526.01, 2525.01, 25...</td>\n      <td>97072.0</td>\n    </tr>\n    <tr>\n      <th>49744</th>\n      <td>T97072</td>\n      <td>03/15/2021</td>\n      <td>-1350</td>\n      <td>1841.0</td>\n      <td>RAFT</td>\n      <td>[2524.0, 2523.0, 2521.01, 2526.01, 2525.01, 25...</td>\n      <td>97072.0</td>\n    </tr>\n    <tr>\n      <th>49745</th>\n      <td>T97072</td>\n      <td>03/15/2021</td>\n      <td>-500</td>\n      <td>1841.0</td>\n      <td>RAFT</td>\n      <td>[2524.0, 2523.0, 2521.01, 2526.01, 2525.01, 25...</td>\n      <td>97072.0</td>\n    </tr>\n  </tbody>\n</table>\n<p>51123 rows × 7 columns</p>\n</div>"
     },
     "metadata": {},
     "execution_count": 140
    }
   ],
   "source": [
    "erma = erma.append(raft)\n",
    "erma"
   ]
  },
  {
   "cell_type": "code",
   "execution_count": 141,
   "metadata": {},
   "outputs": [],
   "source": [
    "erma.to_csv('ermatest.csv')"
   ]
  },
  {
   "cell_type": "code",
   "execution_count": null,
   "metadata": {},
   "outputs": [],
   "source": []
  }
 ]
}