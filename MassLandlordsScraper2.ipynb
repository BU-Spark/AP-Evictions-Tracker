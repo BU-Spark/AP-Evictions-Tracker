{
 "cells": [
  {
   "cell_type": "markdown",
   "metadata": {},
   "source": [
    "# Massachusetts Eviction Data and Housing Court Statistics"
   ]
  },
  {
   "cell_type": "code",
<<<<<<< HEAD
   "execution_count": 148,
=======
   "execution_count": 130,
>>>>>>> af6663338f88e1bd1d84ef76bb9db53c85dd1293
   "metadata": {},
   "outputs": [],
   "source": [
    "# import code block\n",
    "from selenium import webdriver\n",
    "from bs4 import BeautifulSoup\n",
    "import zipfile\n",
    "import pandas as pd\n",
    "from io import StringIO\n",
<<<<<<< HEAD
    "import requests\n",
=======
    "# import requests\n",
>>>>>>> af6663338f88e1bd1d84ef76bb9db53c85dd1293
    "import csv\n",
    "import time\n",
    "import random\n",
    "import matplotlib.pyplot as plt\n",
    "from urllib.request import urlopen\n",
    "import re"
   ]
  },
  {
   "cell_type": "code",
<<<<<<< HEAD
   "execution_count": 149,
=======
   "execution_count": 131,
>>>>>>> af6663338f88e1bd1d84ef76bb9db53c85dd1293
   "metadata": {},
   "outputs": [],
   "source": [
    "html = urlopen('https://masslandlords.net/policy/eviction-data/?ct=t%28Event+Webinar+2021-01-22+T-21+v1%29')\n",
    "bs = BeautifulSoup(html, 'html.parser')\n",
    "\n",
    "# collect all of the dates urls into one list\n",
    "urls = bs.find_all('a',{'href':re.compile('https://masslandlords.net/policy/eviction-data/filings-week-ending-*')})\n",
    "\n",
    "# clean urls of unnecessary attribute data - only need href\n",
    "urls = [url['href'] for url in urls]"
   ]
  },
  {
   "cell_type": "code",
<<<<<<< HEAD
   "execution_count": 150,
=======
   "execution_count": 132,
>>>>>>> af6663338f88e1bd1d84ef76bb9db53c85dd1293
   "metadata": {},
   "outputs": [
    {
     "output_type": "stream",
     "name": "stdout",
     "text": [
      "https://masslandlords.net/policy/eviction-data/filings-week-ending-2020-12-05/\n"
     ]
    }
   ],
   "source": [
    "print(urls[6])\n",
    "html = urlopen(urls[6])\n",
    "bs = BeautifulSoup(html, 'html.parser')\n",
    "\n",
    "text = bs.find('section',id='main-content').find('p', class_='monospace').get_text()"
   ]
  },
  {
   "source": [
    "The text is split by '--' we split into five sections\n",
    "split the text based on '--'"
   ],
   "cell_type": "markdown",
   "metadata": {}
  },
  {
   "cell_type": "code",
<<<<<<< HEAD
   "execution_count": 151,
=======
   "execution_count": 133,
>>>>>>> af6663338f88e1bd1d84ef76bb9db53c85dd1293
   "metadata": {},
   "outputs": [],
   "source": [
    "a,b,c,d,e,f =text.split('--')"
   ]
  },
  {
   "cell_type": "code",
<<<<<<< HEAD
   "execution_count": 152,
=======
   "execution_count": 135,
>>>>>>> af6663338f88e1bd1d84ef76bb9db53c85dd1293
   "metadata": {},
   "outputs": [],
   "source": [
    "# remove beginning and ending newlines\n",
    "reg = re.compile('^\\r\\n')\n",
    "c = reg.sub('',c,count=1)\n",
    "reg2 = re.compile('\\r\\n\\r\\n\\r\\n$')\n",
    "c=reg2.sub('',c,count=1)\n",
    "c1,c2,c3,c4,c5,c6,c7,c8,c9,c10,c11 = c.split(\"\\r\\n\\r\\n\\r\\n\")"
   ]
  },
  {
   "cell_type": "code",
<<<<<<< HEAD
   "execution_count": 153,
=======
   "execution_count": 136,
>>>>>>> af6663338f88e1bd1d84ef76bb9db53c85dd1293
   "metadata": {},
   "outputs": [
    {
     "output_type": "execute_result",
     "data": {
      "text/plain": [
       "                            (n) Count Percent\n",
       "0                       central   206   36.3%\n",
       "1                   metro_south    77   13.6%\n",
       "2                       eastern    71   12.5%\n",
       "3                       western    61   10.7%\n",
       "4                     southeast    53    9.3%\n",
       "5                     northeast    39    6.9%\n",
       "6           fall river district    18    3.2%\n",
       "7               malden district     5    0.9%\n",
       "8   northern berkshire district     5    0.9%\n",
       "9          newburyport district     4    0.7%\n",
       "10          barnstable district     3    0.5%\n",
       "11             concord district     3    0.5%\n",
       "12           fallmouth district     3    0.5%\n",
       "13          pittsfield district     3    0.5%\n",
       "14           attleboro district     2    0.4%\n",
       "15                 bmc brighton     2    0.4%\n",
       "16              bmc east boston     2    0.4%\n",
       "17              dedham district     2    0.4%\n",
       "18                ayer district     1    0.2%\n",
       "19           cambridge district     1    0.2%\n",
       "20          framingham district     1    0.2%\n",
       "21            lawrence district     1    0.2%\n",
       "22         new bedford district     1    0.2%\n",
       "23            plymouth district     1    0.2%\n",
       "24               salem district     1    0.2%\n",
       "25             wareham district     1    0.2%\n",
       "26            wrentham district     1    0.2%"
      ],
      "text/html": "<div>\n<style scoped>\n    .dataframe tbody tr th:only-of-type {\n        vertical-align: middle;\n    }\n\n    .dataframe tbody tr th {\n        vertical-align: top;\n    }\n\n    .dataframe thead th {\n        text-align: right;\n    }\n</style>\n<table border=\"1\" class=\"dataframe\">\n  <thead>\n    <tr style=\"text-align: right;\">\n      <th></th>\n      <th>(n)</th>\n      <th>Count</th>\n      <th>Percent</th>\n    </tr>\n  </thead>\n  <tbody>\n    <tr>\n      <th>0</th>\n      <td>central</td>\n      <td>206</td>\n      <td>36.3%</td>\n    </tr>\n    <tr>\n      <th>1</th>\n      <td>metro_south</td>\n      <td>77</td>\n      <td>13.6%</td>\n    </tr>\n    <tr>\n      <th>2</th>\n      <td>eastern</td>\n      <td>71</td>\n      <td>12.5%</td>\n    </tr>\n    <tr>\n      <th>3</th>\n      <td>western</td>\n      <td>61</td>\n      <td>10.7%</td>\n    </tr>\n    <tr>\n      <th>4</th>\n      <td>southeast</td>\n      <td>53</td>\n      <td>9.3%</td>\n    </tr>\n    <tr>\n      <th>5</th>\n      <td>northeast</td>\n      <td>39</td>\n      <td>6.9%</td>\n    </tr>\n    <tr>\n      <th>6</th>\n      <td>fall river district</td>\n      <td>18</td>\n      <td>3.2%</td>\n    </tr>\n    <tr>\n      <th>7</th>\n      <td>malden district</td>\n      <td>5</td>\n      <td>0.9%</td>\n    </tr>\n    <tr>\n      <th>8</th>\n      <td>northern berkshire district</td>\n      <td>5</td>\n      <td>0.9%</td>\n    </tr>\n    <tr>\n      <th>9</th>\n      <td>newburyport district</td>\n      <td>4</td>\n      <td>0.7%</td>\n    </tr>\n    <tr>\n      <th>10</th>\n      <td>barnstable district</td>\n      <td>3</td>\n      <td>0.5%</td>\n    </tr>\n    <tr>\n      <th>11</th>\n      <td>concord district</td>\n      <td>3</td>\n      <td>0.5%</td>\n    </tr>\n    <tr>\n      <th>12</th>\n      <td>fallmouth district</td>\n      <td>3</td>\n      <td>0.5%</td>\n    </tr>\n    <tr>\n      <th>13</th>\n      <td>pittsfield district</td>\n      <td>3</td>\n      <td>0.5%</td>\n    </tr>\n    <tr>\n      <th>14</th>\n      <td>attleboro district</td>\n      <td>2</td>\n      <td>0.4%</td>\n    </tr>\n    <tr>\n      <th>15</th>\n      <td>bmc brighton</td>\n      <td>2</td>\n      <td>0.4%</td>\n    </tr>\n    <tr>\n      <th>16</th>\n      <td>bmc east boston</td>\n      <td>2</td>\n      <td>0.4%</td>\n    </tr>\n    <tr>\n      <th>17</th>\n      <td>dedham district</td>\n      <td>2</td>\n      <td>0.4%</td>\n    </tr>\n    <tr>\n      <th>18</th>\n      <td>ayer district</td>\n      <td>1</td>\n      <td>0.2%</td>\n    </tr>\n    <tr>\n      <th>19</th>\n      <td>cambridge district</td>\n      <td>1</td>\n      <td>0.2%</td>\n    </tr>\n    <tr>\n      <th>20</th>\n      <td>framingham district</td>\n      <td>1</td>\n      <td>0.2%</td>\n    </tr>\n    <tr>\n      <th>21</th>\n      <td>lawrence district</td>\n      <td>1</td>\n      <td>0.2%</td>\n    </tr>\n    <tr>\n      <th>22</th>\n      <td>new bedford district</td>\n      <td>1</td>\n      <td>0.2%</td>\n    </tr>\n    <tr>\n      <th>23</th>\n      <td>plymouth district</td>\n      <td>1</td>\n      <td>0.2%</td>\n    </tr>\n    <tr>\n      <th>24</th>\n      <td>salem district</td>\n      <td>1</td>\n      <td>0.2%</td>\n    </tr>\n    <tr>\n      <th>25</th>\n      <td>wareham district</td>\n      <td>1</td>\n      <td>0.2%</td>\n    </tr>\n    <tr>\n      <th>26</th>\n      <td>wrentham district</td>\n      <td>1</td>\n      <td>0.2%</td>\n    </tr>\n  </tbody>\n</table>\n</div>"
     },
     "metadata": {},
<<<<<<< HEAD
     "execution_count": 153
=======
     "execution_count": 136
>>>>>>> af6663338f88e1bd1d84ef76bb9db53c85dd1293
    }
   ],
   "source": [
    "# remove newline at the beginning of the table \"block\"\n",
    "reg = re.compile('^\\r\\n')\n",
    "c1 = reg.sub('',c1,count=1)\n",
    "\n",
    "# split the table into separate columns\n",
    "c1 = c1.split('\\r\\n')\n",
    "for index in range(1,len(c1)):\n",
    "    c1[index] = re.split('  +',c1[index])\n",
    "\n",
    "# load the data into a dataframe\n",
<<<<<<< HEAD
    "courts = pd.DataFrame(c1[2:],columns=c1[1])\n",
    "courts"
=======
    "df = pd.DataFrame(c1[2:],columns=c1[1])\n",
    "df"
>>>>>>> af6663338f88e1bd1d84ef76bb9db53c85dd1293
   ]
  },
  {
   "cell_type": "code",
<<<<<<< HEAD
   "execution_count": 154,
=======
   "execution_count": 137,
>>>>>>> af6663338f88e1bd1d84ef76bb9db53c85dd1293
   "metadata": {},
   "outputs": [
    {
     "output_type": "execute_result",
     "data": {
      "text/plain": [
       "                (n) Plaintiffs Defendants\n",
       "0  Corporate Entity        401          1\n",
       "1    Natural Person        167        567\n",
       "2             Total        568        568"
      ],
      "text/html": "<div>\n<style scoped>\n    .dataframe tbody tr th:only-of-type {\n        vertical-align: middle;\n    }\n\n    .dataframe tbody tr th {\n        vertical-align: top;\n    }\n\n    .dataframe thead th {\n        text-align: right;\n    }\n</style>\n<table border=\"1\" class=\"dataframe\">\n  <thead>\n    <tr style=\"text-align: right;\">\n      <th></th>\n      <th>(n)</th>\n      <th>Plaintiffs</th>\n      <th>Defendants</th>\n    </tr>\n  </thead>\n  <tbody>\n    <tr>\n      <th>0</th>\n      <td>Corporate Entity</td>\n      <td>401</td>\n      <td>1</td>\n    </tr>\n    <tr>\n      <th>1</th>\n      <td>Natural Person</td>\n      <td>167</td>\n      <td>567</td>\n    </tr>\n    <tr>\n      <th>2</th>\n      <td>Total</td>\n      <td>568</td>\n      <td>568</td>\n    </tr>\n  </tbody>\n</table>\n</div>"
     },
     "metadata": {},
<<<<<<< HEAD
     "execution_count": 154
=======
     "execution_count": 137
>>>>>>> af6663338f88e1bd1d84ef76bb9db53c85dd1293
    }
   ],
   "source": [
    "# remove newline at the beginning of the table \"block\"\n",
    "reg = re.compile('^\\r\\n')\n",
    "c2 = reg.sub('',c2,count=1)\n",
    "\n",
    "# split the table into separate columns\n",
    "c2 = c2.split('\\r\\n')\n",
    "for index in range(0,len(c2)):\n",
    "    c2[index] = re.split('  +',c2[index])\n",
    "\n",
    "# load the data into a dataframe\n",
<<<<<<< HEAD
    "party_type = pd.DataFrame(c2[2:],columns=c2[1])\n",
    "party_type"
=======
    "df = pd.DataFrame(c2[2:],columns=c2[1])\n",
    "df"
>>>>>>> af6663338f88e1bd1d84ef76bb9db53c85dd1293
   ]
  },
  {
   "cell_type": "code",
<<<<<<< HEAD
   "execution_count": 155,
=======
   "execution_count": 138,
>>>>>>> af6663338f88e1bd1d84ef76bb9db53c85dd1293
   "metadata": {},
   "outputs": [
    {
     "output_type": "execute_result",
     "data": {
      "text/plain": [
       "              (%) Plaintiffs Defendants\n",
       "0  Natural Person      29.4%      99.8%\n",
       "1           Total     100.0%     100.0%"
      ],
      "text/html": "<div>\n<style scoped>\n    .dataframe tbody tr th:only-of-type {\n        vertical-align: middle;\n    }\n\n    .dataframe tbody tr th {\n        vertical-align: top;\n    }\n\n    .dataframe thead th {\n        text-align: right;\n    }\n</style>\n<table border=\"1\" class=\"dataframe\">\n  <thead>\n    <tr style=\"text-align: right;\">\n      <th></th>\n      <th>(%)</th>\n      <th>Plaintiffs</th>\n      <th>Defendants</th>\n    </tr>\n  </thead>\n  <tbody>\n    <tr>\n      <th>0</th>\n      <td>Natural Person</td>\n      <td>29.4%</td>\n      <td>99.8%</td>\n    </tr>\n    <tr>\n      <th>1</th>\n      <td>Total</td>\n      <td>100.0%</td>\n      <td>100.0%</td>\n    </tr>\n  </tbody>\n</table>\n</div>"
     },
     "metadata": {},
<<<<<<< HEAD
     "execution_count": 155
=======
     "execution_count": 138
>>>>>>> af6663338f88e1bd1d84ef76bb9db53c85dd1293
    }
   ],
   "source": [
    "# remove newline at the beginning of the table \"block\"\n",
    "reg = re.compile('^\\r\\n')\n",
    "c3 = reg.sub('',c3,count=1)\n",
    "\n",
    "# split the table into separate columns\n",
    "c3 = re.split('\\r\\n+',c3)\n",
    "for index in range(0,len(c3)):\n",
    "    c3[index] = re.split('  +',c3[index])\n",
    "\n",
    "# load the data into a dataframe\n",
<<<<<<< HEAD
    "party_type_pct = pd.DataFrame(c3[2:],columns=c3[0])\n",
    "party_type_pct"
=======
    "df = pd.DataFrame(c3[2:],columns=c3[0])\n",
    "df"
>>>>>>> af6663338f88e1bd1d84ef76bb9db53c85dd1293
   ]
  },
  {
   "source": [
    "# remove newline at the beginning of the table \"block\"\n",
    "reg = re.compile('^\\r\\n')\n",
    "c4 = reg.sub('',c4,count=1)\n",
    "\n",
    "# split the table into separate columns\n",
    "c4 = c4.split('\\r\\n')\n",
    "for index in range(0,len(c4)):\n",
    "    c4[index] = re.split('  +',c4[index])\n",
    "\n",
    "# load the data into a dataframe\n",
<<<<<<< HEAD
    "plaintiff_repr = pd.DataFrame(c4[2:],columns=c4[1])\n",
    "plaintiff_repr"
   ],
   "cell_type": "code",
   "metadata": {},
   "execution_count": 156,
=======
    "df = pd.DataFrame(c4[2:],columns=c4[1])\n",
    "df"
   ],
   "cell_type": "code",
   "metadata": {},
   "execution_count": 139,
>>>>>>> af6663338f88e1bd1d84ef76bb9db53c85dd1293
   "outputs": [
    {
     "output_type": "execute_result",
     "data": {
      "text/plain": [
       "        (n) Has Attorney Pro Se Total\n",
       "0  Required          391     10   401\n",
       "1  Optional           65    102   167\n",
       "2     Total          456    112   568"
      ],
      "text/html": "<div>\n<style scoped>\n    .dataframe tbody tr th:only-of-type {\n        vertical-align: middle;\n    }\n\n    .dataframe tbody tr th {\n        vertical-align: top;\n    }\n\n    .dataframe thead th {\n        text-align: right;\n    }\n</style>\n<table border=\"1\" class=\"dataframe\">\n  <thead>\n    <tr style=\"text-align: right;\">\n      <th></th>\n      <th>(n)</th>\n      <th>Has Attorney</th>\n      <th>Pro Se</th>\n      <th>Total</th>\n    </tr>\n  </thead>\n  <tbody>\n    <tr>\n      <th>0</th>\n      <td>Required</td>\n      <td>391</td>\n      <td>10</td>\n      <td>401</td>\n    </tr>\n    <tr>\n      <th>1</th>\n      <td>Optional</td>\n      <td>65</td>\n      <td>102</td>\n      <td>167</td>\n    </tr>\n    <tr>\n      <th>2</th>\n      <td>Total</td>\n      <td>456</td>\n      <td>112</td>\n      <td>568</td>\n    </tr>\n  </tbody>\n</table>\n</div>"
     },
     "metadata": {},
<<<<<<< HEAD
     "execution_count": 156
=======
     "execution_count": 139
>>>>>>> af6663338f88e1bd1d84ef76bb9db53c85dd1293
    }
   ]
  },
  {
   "cell_type": "code",
<<<<<<< HEAD
   "execution_count": 157,
=======
   "execution_count": 140,
>>>>>>> af6663338f88e1bd1d84ef76bb9db53c85dd1293
   "metadata": {},
   "outputs": [
    {
     "output_type": "execute_result",
     "data": {
      "text/plain": [
       "        (%) Has Attorney Pro Se   Total\n",
       "0  Optional        11.4%  18.0%   29.4%\n",
       "1     Total        80.3%  19.7%  100.0%"
      ],
      "text/html": "<div>\n<style scoped>\n    .dataframe tbody tr th:only-of-type {\n        vertical-align: middle;\n    }\n\n    .dataframe tbody tr th {\n        vertical-align: top;\n    }\n\n    .dataframe thead th {\n        text-align: right;\n    }\n</style>\n<table border=\"1\" class=\"dataframe\">\n  <thead>\n    <tr style=\"text-align: right;\">\n      <th></th>\n      <th>(%)</th>\n      <th>Has Attorney</th>\n      <th>Pro Se</th>\n      <th>Total</th>\n    </tr>\n  </thead>\n  <tbody>\n    <tr>\n      <th>0</th>\n      <td>Optional</td>\n      <td>11.4%</td>\n      <td>18.0%</td>\n      <td>29.4%</td>\n    </tr>\n    <tr>\n      <th>1</th>\n      <td>Total</td>\n      <td>80.3%</td>\n      <td>19.7%</td>\n      <td>100.0%</td>\n    </tr>\n  </tbody>\n</table>\n</div>"
     },
     "metadata": {},
<<<<<<< HEAD
     "execution_count": 157
=======
     "execution_count": 140
>>>>>>> af6663338f88e1bd1d84ef76bb9db53c85dd1293
    }
   ],
   "source": [
    "# remove newline at the beginning of the table \"block\"\n",
    "reg = re.compile('^\\r\\n')\n",
    "c5 = reg.sub('',c5,count=1)\n",
    "\n",
    "# split the table into separate columns\n",
    "c5 = c5.split('\\r\\n')\n",
    "name = c5[0]\n",
    "for index in range(0,len(c5)):\n",
    "    c5[index] = re.split('  +',c5[index])\n",
    "\n",
    "# load the data into a dataframe\n",
<<<<<<< HEAD
    "plaintiff_repr_pct = pd.DataFrame(c5[2:],columns=c5[0])\n",
    "plaintiff_repr_pct"
=======
    "df = pd.DataFrame(c5[2:],columns=c5[0])\n",
    "df"
>>>>>>> af6663338f88e1bd1d84ef76bb9db53c85dd1293
   ]
  },
  {
   "cell_type": "code",
<<<<<<< HEAD
   "execution_count": 158,
=======
   "execution_count": 142,
>>>>>>> af6663338f88e1bd1d84ef76bb9db53c85dd1293
   "metadata": {},
   "outputs": [
    {
     "output_type": "execute_result",
     "data": {
      "text/plain": [
       "        (n) Has Attorney Pro Se Total\n",
       "0  Required            0      1     1\n",
       "1  Optional           12    555   567\n",
       "2     Total           12    556   568"
      ],
      "text/html": "<div>\n<style scoped>\n    .dataframe tbody tr th:only-of-type {\n        vertical-align: middle;\n    }\n\n    .dataframe tbody tr th {\n        vertical-align: top;\n    }\n\n    .dataframe thead th {\n        text-align: right;\n    }\n</style>\n<table border=\"1\" class=\"dataframe\">\n  <thead>\n    <tr style=\"text-align: right;\">\n      <th></th>\n      <th>(n)</th>\n      <th>Has Attorney</th>\n      <th>Pro Se</th>\n      <th>Total</th>\n    </tr>\n  </thead>\n  <tbody>\n    <tr>\n      <th>0</th>\n      <td>Required</td>\n      <td>0</td>\n      <td>1</td>\n      <td>1</td>\n    </tr>\n    <tr>\n      <th>1</th>\n      <td>Optional</td>\n      <td>12</td>\n      <td>555</td>\n      <td>567</td>\n    </tr>\n    <tr>\n      <th>2</th>\n      <td>Total</td>\n      <td>12</td>\n      <td>556</td>\n      <td>568</td>\n    </tr>\n  </tbody>\n</table>\n</div>"
     },
     "metadata": {},
<<<<<<< HEAD
     "execution_count": 158
=======
     "execution_count": 142
>>>>>>> af6663338f88e1bd1d84ef76bb9db53c85dd1293
    }
   ],
   "source": [
    "# remove newline at the beginning of the table \"block\"\n",
    "reg = re.compile('^\\r\\n')\n",
    "c6 = reg.sub('',c6,count=1)\n",
    "\n",
    "# split the table into separate columns\n",
    "c6 = c6.split('\\r\\n')\n",
    "for index in range(0,len(c6)):\n",
    "    c6[index] = re.split('  +',c6[index])\n",
    "\n",
    "# load the data into a dataframe, cutting off note: \"Defendants will not have an attorney known to the plaintiff at time of filing unless this is an ongoing matter. 100% pro se is to be expected in all filing reports except to the extent time passes between filing and staff review. See outcomes report for final assessment.\"\n",
<<<<<<< HEAD
    "defendant_repr = pd.DataFrame(c6[4:],columns=c6[3])\n",
    "defendant_repr"
=======
    "df = pd.DataFrame(c6[4:],columns=c6[3])\n",
    "df"
>>>>>>> af6663338f88e1bd1d84ef76bb9db53c85dd1293
   ]
  },
  {
   "cell_type": "code",
<<<<<<< HEAD
   "execution_count": 159,
=======
   "execution_count": 143,
>>>>>>> af6663338f88e1bd1d84ef76bb9db53c85dd1293
   "metadata": {},
   "outputs": [
    {
     "output_type": "execute_result",
     "data": {
      "text/plain": [
       "        (%) Has Attorney Pro Se   Total\n",
<<<<<<< HEAD
       "0  Required         0.0%   0.2%    0.2%\n",
       "1  Optional         2.1%  97.7%   99.8%\n",
       "2     Total         2.1%  97.9%  100.0%"
      ],
      "text/html": "<div>\n<style scoped>\n    .dataframe tbody tr th:only-of-type {\n        vertical-align: middle;\n    }\n\n    .dataframe tbody tr th {\n        vertical-align: top;\n    }\n\n    .dataframe thead th {\n        text-align: right;\n    }\n</style>\n<table border=\"1\" class=\"dataframe\">\n  <thead>\n    <tr style=\"text-align: right;\">\n      <th></th>\n      <th>(%)</th>\n      <th>Has Attorney</th>\n      <th>Pro Se</th>\n      <th>Total</th>\n    </tr>\n  </thead>\n  <tbody>\n    <tr>\n      <th>0</th>\n      <td>Required</td>\n      <td>0.0%</td>\n      <td>0.2%</td>\n      <td>0.2%</td>\n    </tr>\n    <tr>\n      <th>1</th>\n      <td>Optional</td>\n      <td>2.1%</td>\n      <td>97.7%</td>\n      <td>99.8%</td>\n    </tr>\n    <tr>\n      <th>2</th>\n      <td>Total</td>\n      <td>2.1%</td>\n      <td>97.9%</td>\n      <td>100.0%</td>\n    </tr>\n  </tbody>\n</table>\n</div>"
     },
     "metadata": {},
     "execution_count": 159
=======
       "0  Optional         2.1%  97.7%   99.8%\n",
       "1     Total         2.1%  97.9%  100.0%"
      ],
      "text/html": "<div>\n<style scoped>\n    .dataframe tbody tr th:only-of-type {\n        vertical-align: middle;\n    }\n\n    .dataframe tbody tr th {\n        vertical-align: top;\n    }\n\n    .dataframe thead th {\n        text-align: right;\n    }\n</style>\n<table border=\"1\" class=\"dataframe\">\n  <thead>\n    <tr style=\"text-align: right;\">\n      <th></th>\n      <th>(%)</th>\n      <th>Has Attorney</th>\n      <th>Pro Se</th>\n      <th>Total</th>\n    </tr>\n  </thead>\n  <tbody>\n    <tr>\n      <th>0</th>\n      <td>Optional</td>\n      <td>2.1%</td>\n      <td>97.7%</td>\n      <td>99.8%</td>\n    </tr>\n    <tr>\n      <th>1</th>\n      <td>Total</td>\n      <td>2.1%</td>\n      <td>97.9%</td>\n      <td>100.0%</td>\n    </tr>\n  </tbody>\n</table>\n</div>"
     },
     "metadata": {},
     "execution_count": 143
>>>>>>> af6663338f88e1bd1d84ef76bb9db53c85dd1293
    }
   ],
   "source": [
    "# remove newline at the beginning of the table \"block\"\n",
    "reg = re.compile('^\\r\\n')\n",
    "c7 = reg.sub('',c7,count=1)\n",
    "\n",
    "# split the table into separate columns\n",
    "c7 = c7.split('\\r\\n')\n",
    "for index in range(0,len(c7)):\n",
    "    c7[index] = re.split('  +',c7[index])\n",
    "\n",
    "# load the data into a dataframe\n",
<<<<<<< HEAD
    "defendant_repr_pct = pd.DataFrame(c7[1:],columns=c7[0])\n",
    "defendant_repr_pct"
=======
    "df = pd.DataFrame(c7[2:],columns=c7[0])\n",
    "df"
>>>>>>> af6663338f88e1bd1d84ef76bb9db53c85dd1293
   ]
  },
  {
   "cell_type": "code",
<<<<<<< HEAD
   "execution_count": 160,
=======
   "execution_count": 144,
>>>>>>> af6663338f88e1bd1d84ef76bb9db53c85dd1293
   "metadata": {},
   "outputs": [
    {
     "output_type": "execute_result",
     "data": {
      "text/plain": [
       "                      Number of Adults in Households Count Percent\n",
       "0                                                  1   346   60.9%\n",
       "1                                                  2   172   30.3%\n",
       "2                                                  3    23    4.0%\n",
       "3                                                  4     5    0.9%\n",
       "4                                                  5     2    0.4%\n",
       "5                                                  6     1    0.2%\n",
       "6                                              Total   568  100.0%\n",
       "7  Note: Households may appear with zero adults d...  None    None"
      ],
      "text/html": "<div>\n<style scoped>\n    .dataframe tbody tr th:only-of-type {\n        vertical-align: middle;\n    }\n\n    .dataframe tbody tr th {\n        vertical-align: top;\n    }\n\n    .dataframe thead th {\n        text-align: right;\n    }\n</style>\n<table border=\"1\" class=\"dataframe\">\n  <thead>\n    <tr style=\"text-align: right;\">\n      <th></th>\n      <th>Number of Adults in Households</th>\n      <th>Count</th>\n      <th>Percent</th>\n    </tr>\n  </thead>\n  <tbody>\n    <tr>\n      <th>0</th>\n      <td>1</td>\n      <td>346</td>\n      <td>60.9%</td>\n    </tr>\n    <tr>\n      <th>1</th>\n      <td>2</td>\n      <td>172</td>\n      <td>30.3%</td>\n    </tr>\n    <tr>\n      <th>2</th>\n      <td>3</td>\n      <td>23</td>\n      <td>4.0%</td>\n    </tr>\n    <tr>\n      <th>3</th>\n      <td>4</td>\n      <td>5</td>\n      <td>0.9%</td>\n    </tr>\n    <tr>\n      <th>4</th>\n      <td>5</td>\n      <td>2</td>\n      <td>0.4%</td>\n    </tr>\n    <tr>\n      <th>5</th>\n      <td>6</td>\n      <td>1</td>\n      <td>0.2%</td>\n    </tr>\n    <tr>\n      <th>6</th>\n      <td>Total</td>\n      <td>568</td>\n      <td>100.0%</td>\n    </tr>\n    <tr>\n      <th>7</th>\n      <td>Note: Households may appear with zero adults d...</td>\n      <td>None</td>\n      <td>None</td>\n    </tr>\n  </tbody>\n</table>\n</div>"
     },
     "metadata": {},
<<<<<<< HEAD
     "execution_count": 160
=======
     "execution_count": 144
>>>>>>> af6663338f88e1bd1d84ef76bb9db53c85dd1293
    }
   ],
   "source": [
    "# remove newline at the beginning of the table \"block\"\n",
    "reg = re.compile('^\\r\\n')\n",
    "c8 = reg.sub('',c8,count=1)\n",
    "\n",
    "# split the table into separate columns\n",
    "c8 = c8.split('\\r\\n')\n",
    "for index in range(len(c8)):\n",
    "    c8[index] = re.split('  +',c8[index])\n",
    "\n",
    "# load the data into a dataframe\n",
<<<<<<< HEAD
    "num_adults = pd.DataFrame(c8[2:],columns=c8[0])\n",
    "num_adults"
=======
    "df = pd.DataFrame(c8[2:],columns=c8[0])\n",
    "df"
>>>>>>> af6663338f88e1bd1d84ef76bb9db53c85dd1293
   ]
  },
  {
   "cell_type": "code",
<<<<<<< HEAD
   "execution_count": 161,
=======
   "execution_count": 145,
>>>>>>> af6663338f88e1bd1d84ef76bb9db53c85dd1293
   "metadata": {},
   "outputs": [
    {
     "output_type": "execute_result",
     "data": {
      "text/plain": [
       "  Initiating Action Count Percent\n",
<<<<<<< HEAD
       "0       Non-payment   453   79.8%\n",
       "1     Unknown/Other    61   10.7%\n",
       "2             Cause    31    5.5%\n",
       "3          No Fault    23    4.0%\n",
       "4       Foreclosure     0    0.0%"
      ],
      "text/html": "<div>\n<style scoped>\n    .dataframe tbody tr th:only-of-type {\n        vertical-align: middle;\n    }\n\n    .dataframe tbody tr th {\n        vertical-align: top;\n    }\n\n    .dataframe thead th {\n        text-align: right;\n    }\n</style>\n<table border=\"1\" class=\"dataframe\">\n  <thead>\n    <tr style=\"text-align: right;\">\n      <th></th>\n      <th>Initiating Action</th>\n      <th>Count</th>\n      <th>Percent</th>\n    </tr>\n  </thead>\n  <tbody>\n    <tr>\n      <th>0</th>\n      <td>Non-payment</td>\n      <td>453</td>\n      <td>79.8%</td>\n    </tr>\n    <tr>\n      <th>1</th>\n      <td>Unknown/Other</td>\n      <td>61</td>\n      <td>10.7%</td>\n    </tr>\n    <tr>\n      <th>2</th>\n      <td>Cause</td>\n      <td>31</td>\n      <td>5.5%</td>\n    </tr>\n    <tr>\n      <th>3</th>\n      <td>No Fault</td>\n      <td>23</td>\n      <td>4.0%</td>\n    </tr>\n    <tr>\n      <th>4</th>\n      <td>Foreclosure</td>\n      <td>0</td>\n      <td>0.0%</td>\n    </tr>\n  </tbody>\n</table>\n</div>"
     },
     "metadata": {},
     "execution_count": 161
=======
       "0     Unknown/Other    61   10.7%\n",
       "1             Cause    31    5.5%\n",
       "2          No Fault    23    4.0%\n",
       "3       Foreclosure     0    0.0%"
      ],
      "text/html": "<div>\n<style scoped>\n    .dataframe tbody tr th:only-of-type {\n        vertical-align: middle;\n    }\n\n    .dataframe tbody tr th {\n        vertical-align: top;\n    }\n\n    .dataframe thead th {\n        text-align: right;\n    }\n</style>\n<table border=\"1\" class=\"dataframe\">\n  <thead>\n    <tr style=\"text-align: right;\">\n      <th></th>\n      <th>Initiating Action</th>\n      <th>Count</th>\n      <th>Percent</th>\n    </tr>\n  </thead>\n  <tbody>\n    <tr>\n      <th>0</th>\n      <td>Unknown/Other</td>\n      <td>61</td>\n      <td>10.7%</td>\n    </tr>\n    <tr>\n      <th>1</th>\n      <td>Cause</td>\n      <td>31</td>\n      <td>5.5%</td>\n    </tr>\n    <tr>\n      <th>2</th>\n      <td>No Fault</td>\n      <td>23</td>\n      <td>4.0%</td>\n    </tr>\n    <tr>\n      <th>3</th>\n      <td>Foreclosure</td>\n      <td>0</td>\n      <td>0.0%</td>\n    </tr>\n  </tbody>\n</table>\n</div>"
     },
     "metadata": {},
     "execution_count": 145
>>>>>>> af6663338f88e1bd1d84ef76bb9db53c85dd1293
    }
   ],
   "source": [
    "# remove newline at the beginning of the table \"block\"\n",
    "reg = re.compile('^\\r\\n')\n",
    "c9 = reg.sub('',c9,count=1)\n",
    "\n",
    "# split the table into separate columns\n",
    "c9 = c9.split('\\r\\n')\n",
    "for index in range(len(c9)):\n",
    "    c9[index] = re.split('  +',c9[index])\n",
    "\n",
    "# load the data into a dataframe\n",
<<<<<<< HEAD
    "init_action = pd.DataFrame(c9[1:],columns=c9[0])\n",
    "init_action"
=======
    "df = pd.DataFrame(c9[2:],columns=c9[0])\n",
    "df"
>>>>>>> af6663338f88e1bd1d84ef76bb9db53c85dd1293
   ]
  },
  {
   "cell_type": "code",
<<<<<<< HEAD
   "execution_count": 162,
=======
   "execution_count": 146,
>>>>>>> af6663338f88e1bd1d84ef76bb9db53c85dd1293
   "metadata": {},
   "outputs": [
    {
     "output_type": "execute_result",
     "data": {
      "text/plain": [
       "                                          Municipality Residents Count\n",
       "0                                              Russell        56     1\n",
       "1                                           Framingham        55    38\n",
       "2                                           Fall River        52    47\n",
       "3                                            Salisbury        48     4\n",
       "4                                            Fitchburg        44    18\n",
       "..                                                 ...       ...   ...\n",
       "120                                        (not given)         0    41\n",
       "121                                             Boston         0     4\n",
       "122                                          Cambridge         0     1\n",
       "123                                               span         0     1\n",
       "124  Rate per 100,000 residents based on 2010 censu...      None  None\n",
       "\n",
       "[125 rows x 3 columns]"
      ],
      "text/html": "<div>\n<style scoped>\n    .dataframe tbody tr th:only-of-type {\n        vertical-align: middle;\n    }\n\n    .dataframe tbody tr th {\n        vertical-align: top;\n    }\n\n    .dataframe thead th {\n        text-align: right;\n    }\n</style>\n<table border=\"1\" class=\"dataframe\">\n  <thead>\n    <tr style=\"text-align: right;\">\n      <th></th>\n      <th>Municipality</th>\n      <th>Residents</th>\n      <th>Count</th>\n    </tr>\n  </thead>\n  <tbody>\n    <tr>\n      <th>0</th>\n      <td>Russell</td>\n      <td>56</td>\n      <td>1</td>\n    </tr>\n    <tr>\n      <th>1</th>\n      <td>Framingham</td>\n      <td>55</td>\n      <td>38</td>\n    </tr>\n    <tr>\n      <th>2</th>\n      <td>Fall River</td>\n      <td>52</td>\n      <td>47</td>\n    </tr>\n    <tr>\n      <th>3</th>\n      <td>Salisbury</td>\n      <td>48</td>\n      <td>4</td>\n    </tr>\n    <tr>\n      <th>4</th>\n      <td>Fitchburg</td>\n      <td>44</td>\n      <td>18</td>\n    </tr>\n    <tr>\n      <th>...</th>\n      <td>...</td>\n      <td>...</td>\n      <td>...</td>\n    </tr>\n    <tr>\n      <th>120</th>\n      <td>(not given)</td>\n      <td>0</td>\n      <td>41</td>\n    </tr>\n    <tr>\n      <th>121</th>\n      <td>Boston</td>\n      <td>0</td>\n      <td>4</td>\n    </tr>\n    <tr>\n      <th>122</th>\n      <td>Cambridge</td>\n      <td>0</td>\n      <td>1</td>\n    </tr>\n    <tr>\n      <th>123</th>\n      <td>span</td>\n      <td>0</td>\n      <td>1</td>\n    </tr>\n    <tr>\n      <th>124</th>\n      <td>Rate per 100,000 residents based on 2010 censu...</td>\n      <td>None</td>\n      <td>None</td>\n    </tr>\n  </tbody>\n</table>\n<p>125 rows × 3 columns</p>\n</div>"
     },
     "metadata": {},
<<<<<<< HEAD
     "execution_count": 162
=======
     "execution_count": 146
>>>>>>> af6663338f88e1bd1d84ef76bb9db53c85dd1293
    }
   ],
   "source": [
    "# remove newline at the beginning of the table \"block\"\n",
    "reg = re.compile('^\\r\\n')\n",
    "c10 = reg.sub('',c10,count=1)\n",
    "\n",
    "# split the table into separate columns\n",
    "c10 = c10.split('\\r\\n')\n",
    "for index in range(len(c10)):\n",
    "    c10[index] = re.split('  +',c10[index])\n",
    "\n",
    "# load the data into a dataframe\n",
<<<<<<< HEAD
    "rate_per_100k = pd.DataFrame(c10[2:],columns=c10[1])\n",
    "rate_per_100k"
=======
    "df = pd.DataFrame(c10[2:],columns=c10[1])\n",
    "df"
>>>>>>> af6663338f88e1bd1d84ef76bb9db53c85dd1293
   ]
  },
  {
   "cell_type": "code",
<<<<<<< HEAD
   "execution_count": 163,
=======
   "execution_count": 147,
>>>>>>> af6663338f88e1bd1d84ef76bb9db53c85dd1293
   "metadata": {},
   "outputs": [
    {
     "output_type": "execute_result",
     "data": {
      "text/plain": [
       "                                               County Renter Households Count\n",
       "0                                           Worcester               132   148\n",
       "1                                           Berkshire                92    15\n",
       "2                                            Plymouth                83    36\n",
       "3                                             Bristol                77    64\n",
       "4                                             Hampden                63    45\n",
       "5                                             Norfolk                50    43\n",
       "6                                            Franklin                37     4\n",
       "7                                          Barnstable                36     7\n",
       "8                                             Suffolk                33    67\n",
       "9                                           Middlesex                30    72\n",
       "10                                          Hampshire                21     4\n",
       "11                                              Essex                19    21\n",
       "12                                              Dukes                 0     0\n",
       "13                                          Nantucket                 0     0\n",
       "14  Rate per 100,000 renter households based on 20...              None  None\n",
       "15                                                                 None  None"
      ],
      "text/html": "<div>\n<style scoped>\n    .dataframe tbody tr th:only-of-type {\n        vertical-align: middle;\n    }\n\n    .dataframe tbody tr th {\n        vertical-align: top;\n    }\n\n    .dataframe thead th {\n        text-align: right;\n    }\n</style>\n<table border=\"1\" class=\"dataframe\">\n  <thead>\n    <tr style=\"text-align: right;\">\n      <th></th>\n      <th>County</th>\n      <th>Renter Households</th>\n      <th>Count</th>\n    </tr>\n  </thead>\n  <tbody>\n    <tr>\n      <th>0</th>\n      <td>Worcester</td>\n      <td>132</td>\n      <td>148</td>\n    </tr>\n    <tr>\n      <th>1</th>\n      <td>Berkshire</td>\n      <td>92</td>\n      <td>15</td>\n    </tr>\n    <tr>\n      <th>2</th>\n      <td>Plymouth</td>\n      <td>83</td>\n      <td>36</td>\n    </tr>\n    <tr>\n      <th>3</th>\n      <td>Bristol</td>\n      <td>77</td>\n      <td>64</td>\n    </tr>\n    <tr>\n      <th>4</th>\n      <td>Hampden</td>\n      <td>63</td>\n      <td>45</td>\n    </tr>\n    <tr>\n      <th>5</th>\n      <td>Norfolk</td>\n      <td>50</td>\n      <td>43</td>\n    </tr>\n    <tr>\n      <th>6</th>\n      <td>Franklin</td>\n      <td>37</td>\n      <td>4</td>\n    </tr>\n    <tr>\n      <th>7</th>\n      <td>Barnstable</td>\n      <td>36</td>\n      <td>7</td>\n    </tr>\n    <tr>\n      <th>8</th>\n      <td>Suffolk</td>\n      <td>33</td>\n      <td>67</td>\n    </tr>\n    <tr>\n      <th>9</th>\n      <td>Middlesex</td>\n      <td>30</td>\n      <td>72</td>\n    </tr>\n    <tr>\n      <th>10</th>\n      <td>Hampshire</td>\n      <td>21</td>\n      <td>4</td>\n    </tr>\n    <tr>\n      <th>11</th>\n      <td>Essex</td>\n      <td>19</td>\n      <td>21</td>\n    </tr>\n    <tr>\n      <th>12</th>\n      <td>Dukes</td>\n      <td>0</td>\n      <td>0</td>\n    </tr>\n    <tr>\n      <th>13</th>\n      <td>Nantucket</td>\n      <td>0</td>\n      <td>0</td>\n    </tr>\n    <tr>\n      <th>14</th>\n      <td>Rate per 100,000 renter households based on 20...</td>\n      <td>None</td>\n      <td>None</td>\n    </tr>\n    <tr>\n      <th>15</th>\n      <td></td>\n      <td>None</td>\n      <td>None</td>\n    </tr>\n  </tbody>\n</table>\n</div>"
     },
     "metadata": {},
<<<<<<< HEAD
     "execution_count": 163
=======
     "execution_count": 147
>>>>>>> af6663338f88e1bd1d84ef76bb9db53c85dd1293
    }
   ],
   "source": [
    "# remove newline at the beginning of the table \"block\"\n",
    "reg = re.compile('^\\r\\n')\n",
    "c11 = reg.sub('',c11,count=1)\n",
    "\n",
    "# split the table into separate columns\n",
    "c11 = c11.split('\\r\\n')\n",
    "for index in range(len(c11)):\n",
    "    c11[index] = re.split('  +',c11[index])\n",
    "\n",
    "# load the data into a dataframe\n",
<<<<<<< HEAD
    "rate_per_100k_renters = pd.DataFrame(c11[2:],columns=c11[1])\n",
    "rate_per_100k_renters"
=======
    "df = pd.DataFrame(c11[2:],columns=c11[1])\n",
    "df"
>>>>>>> af6663338f88e1bd1d84ef76bb9db53c85dd1293
   ]
  }
 ],
 "metadata": {
  "kernelspec": {
   "name": "python3",
   "display_name": "Python 3.8.6 64-bit",
   "metadata": {
    "interpreter": {
     "hash": "1ee38ef4a5a9feb55287fd749643f13d043cb0a7addaab2a9c224cbe137c0062"
    }
   }
  },
  "language_info": {
   "codemirror_mode": {
    "name": "ipython",
    "version": 3
   },
   "file_extension": ".py",
   "mimetype": "text/x-python",
   "name": "python",
   "nbconvert_exporter": "python",
   "pygments_lexer": "ipython3",
   "version": "3.8.6-final"
  }
 },
 "nbformat": 4,
 "nbformat_minor": 4
}